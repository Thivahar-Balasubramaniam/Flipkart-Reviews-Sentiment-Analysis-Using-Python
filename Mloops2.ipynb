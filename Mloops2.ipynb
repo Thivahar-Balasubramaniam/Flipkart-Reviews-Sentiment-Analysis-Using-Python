{
  "nbformat": 4,
  "nbformat_minor": 0,
  "metadata": {
    "colab": {
      "provenance": [],
      "authorship_tag": "ABX9TyNStBjpaGpyMHL+N84i77cL",
      "include_colab_link": true
    },
    "kernelspec": {
      "name": "python3",
      "display_name": "Python 3"
    },
    "language_info": {
      "name": "python"
    }
  },
  "cells": [
    {
      "cell_type": "markdown",
      "metadata": {
        "id": "view-in-github",
        "colab_type": "text"
      },
      "source": [
        "<a href=\"https://colab.research.google.com/github/Thivahar-Balasubramaniam/Flipkart-Reviews-Sentiment-Analysis-Using-Python/blob/main/Mloops2.ipynb\" target=\"_parent\"><img src=\"https://colab.research.google.com/assets/colab-badge.svg\" alt=\"Open In Colab\"/></a>"
      ]
    },
    {
      "cell_type": "code",
      "execution_count": 15,
      "metadata": {
        "colab": {
          "base_uri": "https://localhost:8080/"
        },
        "id": "1-Po6iyTowsa",
        "outputId": "e20f861e-d532-4fe7-866c-780e8c4e36be"
      },
      "outputs": [
        {
          "output_type": "stream",
          "name": "stdout",
          "text": [
            "fatal: destination path 'outfit-Recommender' already exists and is not an empty directory.\n",
            "/content/outfit-Recommender\n"
          ]
        }
      ],
      "source": [
        "!git clone https://github.com/Thivahar-Balasubramaniam/outfit-Recommender\n",
        "%cd outfit-Recommender"
      ]
    },
    {
      "cell_type": "code",
      "source": [
        "!mkdir -p data\n",
        "# Write the CSV file\n",
        "with open(\"data/outfits.csv\", \"w\") as f:\n",
        "    f.write(\"outfit,color,occasion\\n\")\n",
        "    f.write(\"Casual Shirt and Jeans,Blue,Casual\\n\")\n",
        "    f.write(\"Black Suit,Black,Formal\\n\")\n",
        "    f.write(\"Red Dress,Red,Party\\n\")\n",
        "    f.write(\"Sports Tracksuit,Grey,Sports\\n\")\n",
        "# Verify the contents\n",
        "!cat data/outfits.csv"
      ],
      "metadata": {
        "colab": {
          "base_uri": "https://localhost:8080/"
        },
        "id": "i2ZAgXlnpWuX",
        "outputId": "12590f7f-679c-4e31-87ad-0520e49466c4"
      },
      "execution_count": 16,
      "outputs": [
        {
          "output_type": "stream",
          "name": "stdout",
          "text": [
            "outfit,color,occasion\n",
            "Casual Shirt and Jeans,Blue,Casual\n",
            "Black Suit,Black,Formal\n",
            "Red Dress,Red,Party\n",
            "Sports Tracksuit,Grey,Sports\n"
          ]
        }
      ]
    },
    {
      "cell_type": "code",
      "source": [
        "!mkdir -p recommender\n",
        "# Create outfit_recommender.py with the recommender class\n",
        "with open(\"recommender/outfit_recommender.py\", \"w\") as f:\n",
        "    f.write(\"\"\"\n",
        "import pandas as pd\n",
        "class OutfitRecommender:\n",
        "    def __init__(self, csv_path):\n",
        "        self.data = pd.read_csv(csv_path)\n",
        "    def recommend(self, color=None, occasion=None):\n",
        "        result = self.data\n",
        "        if color:\n",
        "            result = result[result['color'].str.lower() ==\n",
        "\n",
        "color.lower()]\n",
        "        if occasion:\n",
        "            result = result[result['occasion'].str.lower() ==\n",
        "\n",
        "occasion.lower()]\n",
        "\n",
        "        return result['outfit'].tolist()\n",
        "\n",
        "\"\"\")"
      ],
      "metadata": {
        "id": "mqf9oE7Npi91"
      },
      "execution_count": 17,
      "outputs": []
    },
    {
      "cell_type": "code",
      "source": [
        "with open(\"main.py\", \"w\") as f:\n",
        "    f.write(\"\"\"\n",
        "from recommender.outfit_recommender import OutfitRecommender\n",
        "def main():\n",
        "    recommender = OutfitRecommender(\"data/outfits.csv\")\n",
        "    print(\"Recommendations for color='Red', occasion='Party':\")\n",
        "    print(recommender.recommend(color='Red', occasion='Party'))\n",
        "if __name__ == \"__main__\":\n",
        "    main()\n",
        "\"\"\")"
      ],
      "metadata": {
        "id": "Yq2F5dJrpupM"
      },
      "execution_count": 18,
      "outputs": []
    },
    {
      "cell_type": "code",
      "source": [
        "!python main.py"
      ],
      "metadata": {
        "colab": {
          "base_uri": "https://localhost:8080/"
        },
        "id": "eB8jdov8p6ml",
        "outputId": "4e2caad7-1600-4697-bfb9-3c34fb079299"
      },
      "execution_count": 19,
      "outputs": [
        {
          "output_type": "stream",
          "name": "stdout",
          "text": [
            "Recommendations for color='Red', occasion='Party':\n",
            "['Red Dress']\n"
          ]
        }
      ]
    },
    {
      "cell_type": "code",
      "source": [
        "!git config --global user.email \"thivaharb924@gmail.com\"\n",
        "!git config --global user.name \"Thivahar-Balasubramaniam\""
      ],
      "metadata": {
        "id": "cFtEx3CMqAQf"
      },
      "execution_count": 20,
      "outputs": []
    },
    {
      "cell_type": "code",
      "source": [
        "!git status"
      ],
      "metadata": {
        "colab": {
          "base_uri": "https://localhost:8080/"
        },
        "id": "L-8TW60FqO65",
        "outputId": "6eb1b19c-487a-404b-9f6c-1e67ac2b90a4"
      },
      "execution_count": 21,
      "outputs": [
        {
          "output_type": "stream",
          "name": "stdout",
          "text": [
            "On branch main\n",
            "Your branch is up to date with 'origin/main'.\n",
            "\n",
            "Untracked files:\n",
            "  (use \"git add <file>...\" to include in what will be committed)\n",
            "\t\u001b[31mdata/\u001b[m\n",
            "\t\u001b[31mmain.py\u001b[m\n",
            "\t\u001b[31mrecommender/\u001b[m\n",
            "\n",
            "nothing added to commit but untracked files present (use \"git add\" to track)\n"
          ]
        }
      ]
    },
    {
      "cell_type": "code",
      "source": [
        "!git add ."
      ],
      "metadata": {
        "id": "j0aNyEqJqU2F"
      },
      "execution_count": 22,
      "outputs": []
    },
    {
      "cell_type": "code",
      "source": [
        "!git commit -m \"Initial recommender version\""
      ],
      "metadata": {
        "colab": {
          "base_uri": "https://localhost:8080/"
        },
        "id": "ywY2aVcSqZdT",
        "outputId": "685bea20-e80c-4d1e-83f7-94b1d702386f"
      },
      "execution_count": 23,
      "outputs": [
        {
          "output_type": "stream",
          "name": "stdout",
          "text": [
            "[main 376b3c9] Initial recommender version\n",
            " 4 files changed, 31 insertions(+)\n",
            " create mode 100644 data/outfits.csv\n",
            " create mode 100644 main.py\n",
            " create mode 100644 recommender/__pycache__/outfit_recommender.cpython-312.pyc\n",
            " create mode 100644 recommender/outfit_recommender.py\n"
          ]
        }
      ]
    }
  ]
}