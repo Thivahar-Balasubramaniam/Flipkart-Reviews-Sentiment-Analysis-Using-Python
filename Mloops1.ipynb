{
  "nbformat": 4,
  "nbformat_minor": 0,
  "metadata": {
    "colab": {
      "provenance": [],
      "authorship_tag": "ABX9TyNpKeAiTMJJpTYFHYhymK40",
      "include_colab_link": true
    },
    "kernelspec": {
      "name": "python3",
      "display_name": "Python 3"
    },
    "language_info": {
      "name": "python"
    }
  },
  "cells": [
    {
      "cell_type": "markdown",
      "metadata": {
        "id": "view-in-github",
        "colab_type": "text"
      },
      "source": [
        "<a href=\"https://colab.research.google.com/github/Thivahar-Balasubramaniam/Flipkart-Reviews-Sentiment-Analysis-Using-Python/blob/main/Mloops1.ipynb\" target=\"_parent\"><img src=\"https://colab.research.google.com/assets/colab-badge.svg\" alt=\"Open In Colab\"/></a>"
      ]
    },
    {
      "cell_type": "code",
      "execution_count": 1,
      "metadata": {
        "colab": {
          "base_uri": "https://localhost:8080/"
        },
        "id": "1-Po6iyTowsa",
        "outputId": "9f075208-8380-4b34-ed06-ae58cbacdc84"
      },
      "outputs": [
        {
          "output_type": "stream",
          "name": "stdout",
          "text": [
            "Cloning into 'outfit-Recommender'...\n",
            "remote: Enumerating objects: 3, done.\u001b[K\n",
            "remote: Counting objects: 100% (3/3), done.\u001b[K\n",
            "remote: Compressing objects: 100% (2/2), done.\u001b[K\n",
            "remote: Total 3 (delta 0), reused 0 (delta 0), pack-reused 0 (from 0)\u001b[K\n",
            "Receiving objects: 100% (3/3), done.\n",
            "[Errno 2] No such file or directory: 'outfit-recommender'\n",
            "/content\n"
          ]
        }
      ],
      "source": [
        "!git clone https://github.com/Thivahar-Balasubramaniam/outfit-Recommender\n",
        "%cd outfit-recommender"
      ]
    },
    {
      "cell_type": "code",
      "source": [
        "!mkdir -p data\n",
        "# Write the CSV file\n",
        "with open(\"data/outfits.csv\", \"w\") as f:\n",
        "    f.write(\"outfit,color,occasion\\n\")\n",
        "    f.write(\"Casual Shirt and Jeans,Blue,Casual\\n\")\n",
        "    f.write(\"Black Suit,Black,Formal\\n\")\n",
        "    f.write(\"Red Dress,Red,Party\\n\")\n",
        "    f.write(\"Sports Tracksuit,Grey,Sports\\n\")\n",
        "# Verify the contents\n",
        "!cat data/outfits.csv"
      ],
      "metadata": {
        "colab": {
          "base_uri": "https://localhost:8080/"
        },
        "id": "i2ZAgXlnpWuX",
        "outputId": "821bbd40-6d5d-4a38-e37f-684f4b74f041"
      },
      "execution_count": 3,
      "outputs": [
        {
          "output_type": "stream",
          "name": "stdout",
          "text": [
            "outfit,color,occasion\n",
            "Casual Shirt and Jeans,Blue,Casual\n",
            "Black Suit,Black,Formal\n",
            "Red Dress,Red,Party\n",
            "Sports Tracksuit,Grey,Sports\n"
          ]
        }
      ]
    },
    {
      "cell_type": "code",
      "source": [
        "!mkdir -p recommender\n",
        "# Create outfit_recommender.py with the recommender class\n",
        "with open(\"recommender/outfit_recommender.py\", \"w\") as f:\n",
        "    f.write(\"\"\"\n",
        "import pandas as pd\n",
        "class OutfitRecommender:\n",
        "    def __init__(self, csv_path):\n",
        "        self.data = pd.read_csv(csv_path)\n",
        "    def recommend(self, color=None, occasion=None):\n",
        "        result = self.data\n",
        "        if color:\n",
        "            result = result[result['color'].str.lower() ==\n",
        "\n",
        "color.lower()]\n",
        "        if occasion:\n",
        "            result = result[result['occasion'].str.lower() ==\n",
        "\n",
        "occasion.lower()]\n",
        "\n",
        "        return result['outfit'].tolist()\n",
        "\n",
        "\"\"\")"
      ],
      "metadata": {
        "id": "mqf9oE7Npi91"
      },
      "execution_count": 5,
      "outputs": []
    },
    {
      "cell_type": "code",
      "source": [
        "with open(\"main.py\", \"w\") as f:\n",
        "    f.write(\"\"\"\n",
        "from recommender.outfit_recommender import OutfitRecommender\n",
        "def main():\n",
        "    recommender = OutfitRecommender(\"data/outfits.csv\")\n",
        "    print(\"Recommendations for color='Red', occasion='Party':\")\n",
        "    print(recommender.recommend(color='Red', occasion='Party'))\n",
        "if __name__ == \"__main__\":\n",
        "    main()\n",
        "\"\"\")"
      ],
      "metadata": {
        "id": "Yq2F5dJrpupM"
      },
      "execution_count": 7,
      "outputs": []
    },
    {
      "cell_type": "code",
      "source": [
        "!python main.py"
      ],
      "metadata": {
        "colab": {
          "base_uri": "https://localhost:8080/"
        },
        "id": "eB8jdov8p6ml",
        "outputId": "14b833d8-c179-49e7-f4cf-388410c4c7ef"
      },
      "execution_count": 8,
      "outputs": [
        {
          "output_type": "stream",
          "name": "stdout",
          "text": [
            "Recommendations for color='Red', occasion='Party':\n",
            "['Red Dress']\n"
          ]
        }
      ]
    },
    {
      "cell_type": "code",
      "source": [
        "!git config --global user.email \"thivaharb924@gmail.com\"\n",
        "!git config --global user.name \"Thivahar-Balasubramaniam\""
      ],
      "metadata": {
        "id": "cFtEx3CMqAQf"
      },
      "execution_count": 13,
      "outputs": []
    },
    {
      "cell_type": "code",
      "source": [
        "!git status"
      ],
      "metadata": {
        "colab": {
          "base_uri": "https://localhost:8080/"
        },
        "id": "L-8TW60FqO65",
        "outputId": "810191ee-27ed-4660-f98e-fd26b700839c"
      },
      "execution_count": 14,
      "outputs": [
        {
          "output_type": "stream",
          "name": "stdout",
          "text": [
            "fatal: not a git repository (or any of the parent directories): .git\n"
          ]
        }
      ]
    },
    {
      "cell_type": "code",
      "source": [
        "!git add ."
      ],
      "metadata": {
        "colab": {
          "base_uri": "https://localhost:8080/"
        },
        "id": "j0aNyEqJqU2F",
        "outputId": "4b5449ea-937a-44e7-df0a-a2024ebd27ec"
      },
      "execution_count": 11,
      "outputs": [
        {
          "output_type": "stream",
          "name": "stdout",
          "text": [
            "fatal: not a git repository (or any of the parent directories): .git\n"
          ]
        }
      ]
    },
    {
      "cell_type": "code",
      "source": [
        "!git commit -m \"Initial recommender version\""
      ],
      "metadata": {
        "colab": {
          "base_uri": "https://localhost:8080/"
        },
        "id": "ywY2aVcSqZdT",
        "outputId": "9b61436a-e7e4-4e37-d585-f5c7abde6edf"
      },
      "execution_count": 12,
      "outputs": [
        {
          "output_type": "stream",
          "name": "stdout",
          "text": [
            "fatal: not a git repository (or any of the parent directories): .git\n"
          ]
        }
      ]
    }
  ]
}